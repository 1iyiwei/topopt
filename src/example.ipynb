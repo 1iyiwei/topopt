{
 "cells": [
  {
   "cell_type": "markdown",
   "metadata": {
    "collapsed": true,
    "deletable": true,
    "editable": true
   },
   "source": [
    "# Topology optimization"
   ]
  },
  {
   "cell_type": "code",
   "execution_count": 1,
   "metadata": {
    "collapsed": true
   },
   "outputs": [],
   "source": [
    "import math\n",
    "import matplotlib.pyplot as plt\n",
    "\n",
    "from loads import HalfBeam\n",
    "from fesolvers import LilFESolver, CooFESolver\n",
    "from topopt import Topopt"
   ]
  },
  {
   "cell_type": "code",
   "execution_count": 2,
   "metadata": {
    "collapsed": true
   },
   "outputs": [],
   "source": [
    "%matplotlib inline"
   ]
  },
  {
   "cell_type": "code",
   "execution_count": 3,
   "metadata": {
    "collapsed": true
   },
   "outputs": [],
   "source": [
    "# material properties\n",
    "young = 1\n",
    "poisson = 0.3\n",
    "\n",
    "# default input parameters\n",
    "nelx = 180\n",
    "nely = 60\n",
    "volfrac = 0.4\n",
    "penal = 3.0\n",
    "rmin = 5.4\n",
    "delta = 0.01\n",
    "loopy = math.inf\n",
    "\n",
    "# loading/problem\n",
    "load = HalfBeam(nelx, nely)\n",
    "\n",
    "# optimizer\n",
    "verbose = False\n",
    "fesolver = CooFESolver(verbose = verbose)\n",
    "optimizer = Topopt(fesolver, young, poisson, verbose = verbose)"
   ]
  },
  {
   "cell_type": "code",
   "execution_count": 4,
   "metadata": {
    "collapsed": true
   },
   "outputs": [],
   "source": [
    "# compute\n",
    "x = optimizer.init(load, volfrac)\n",
    "x, loop = optimizer.layout(load, x, volfrac, penal, rmin, delta, loopy)"
   ]
  },
  {
   "cell_type": "code",
   "execution_count": 5,
   "metadata": {
    "collapsed": false
   },
   "outputs": [
    {
     "data": {
      "image/png": "[encoded data removed]",
      "text/plain": [
       "<matplotlib.figure.Figure at 0x26ebda95b00>"
      ]
     },
     "metadata": {},
     "output_type": "display_data"
    }
   ],
   "source": [
    "# plot\n",
    "plt.figure()\n",
    "plt.imshow(x, cmap=plt.cm.gray)\n",
    "plt.title(str(loop) + ' loops')\n",
    "plt.xticks([])\n",
    "plt.yticks([])\n",
    "plt.show()"
   ]
  }
 ],
 "metadata": {
  "anaconda-cloud": {},
  "kernelspec": {
   "display_name": "Python [default]",
   "language": "python",
   "name": "python3"
  },
  "language_info": {
   "codemirror_mode": {
    "name": "ipython",
    "version": 3
   },
   "file_extension": ".py",
   "mimetype": "text/x-python",
   "name": "python",
   "nbconvert_exporter": "python",
   "pygments_lexer": "ipython3",
   "version": "3.5.3"
  }
 },
 "nbformat": 4,
 "nbformat_minor": 2
}
